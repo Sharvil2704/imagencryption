{
  "nbformat": 4,
  "nbformat_minor": 0,
  "metadata": {
    "colab": {
      "provenance": [],
      "authorship_tag": "ABX9TyMjubDJtaee1DmbZU5Z+3wd",
      "include_colab_link": true
    },
    "kernelspec": {
      "name": "python3",
      "display_name": "Python 3"
    },
    "language_info": {
      "name": "python"
    }
  },
  "cells": [
    {
      "cell_type": "markdown",
      "metadata": {
        "id": "view-in-github",
        "colab_type": "text"
      },
      "source": [
        "<a href=\"https://colab.research.google.com/github/Sharvil2704/imagencryption/blob/main/imageencrypt.ipynb\" target=\"_parent\"><img src=\"https://colab.research.google.com/assets/colab-badge.svg\" alt=\"Open In Colab\"/></a>"
      ]
    },
    {
      "cell_type": "code",
      "source": [
        "!pip install pycryptodome\n"
      ],
      "metadata": {
        "colab": {
          "base_uri": "https://localhost:8080/"
        },
        "id": "OhK2BTuTySNK",
        "outputId": "c4b97351-af7a-4da7-ae5b-72bab380d845"
      },
      "execution_count": 2,
      "outputs": [
        {
          "output_type": "stream",
          "name": "stdout",
          "text": [
            "Looking in indexes: https://pypi.org/simple, https://us-python.pkg.dev/colab-wheels/public/simple/\n",
            "Collecting pycryptodome\n",
            "  Downloading pycryptodome-3.18.0-cp35-abi3-manylinux_2_17_x86_64.manylinux2014_x86_64.whl (2.1 MB)\n",
            "\u001b[2K     \u001b[90m━━━━━━━━━━━━━━━━━━━━━━━━━━━━━━━━━━━━━━━━\u001b[0m \u001b[32m2.1/2.1 MB\u001b[0m \u001b[31m23.3 MB/s\u001b[0m eta \u001b[36m0:00:00\u001b[0m\n",
            "\u001b[?25hInstalling collected packages: pycryptodome\n",
            "Successfully installed pycryptodome-3.18.0\n"
          ]
        }
      ]
    },
    {
      "cell_type": "code",
      "source": [
        "!pip install pillow"
      ],
      "metadata": {
        "colab": {
          "base_uri": "https://localhost:8080/"
        },
        "id": "U_FpA_unyeAg",
        "outputId": "2c941d32-2c64-4192-e0eb-e6f5e3b3a242"
      },
      "execution_count": 3,
      "outputs": [
        {
          "output_type": "stream",
          "name": "stdout",
          "text": [
            "Looking in indexes: https://pypi.org/simple, https://us-python.pkg.dev/colab-wheels/public/simple/\n",
            "Requirement already satisfied: pillow in /usr/local/lib/python3.10/dist-packages (8.4.0)\n"
          ]
        }
      ]
    },
    {
      "cell_type": "code",
      "source": [
        "from PIL import Image\n",
        "\n",
        "def encrypt_image(input_path, output_path):\n",
        "    # Load the image\n",
        "    image = Image.open(input_path)\n",
        "\n",
        "    # Convert the image to grayscale\n",
        "    image = image.convert('L')\n",
        "\n",
        "    # Get the image size\n",
        "    width, height = image.size\n",
        "\n",
        "    # Create a new grayscale image with the same size\n",
        "    encrypted_image = Image.new('L', (width, height))\n",
        "\n",
        "    # Apply ROT13 to the pixel values\n",
        "    for y in range(height):\n",
        "        for x in range(width):\n",
        "            # Get the grayscale value of the current pixel\n",
        "            pixel = image.getpixel((x, y))\n",
        "\n",
        "            # Apply ROT13 to the grayscale value\n",
        "            encrypted_pixel = (pixel + 50) % 256\n",
        "\n",
        "            # Set the modified grayscale value to the new image\n",
        "            encrypted_image.putpixel((x, y), encrypted_pixel)\n",
        "\n",
        "    # Save the encrypted image\n",
        "    encrypted_image.save(output_path)\n",
        "\n",
        "    print(\"Image encrypted and saved successfully!\")\n",
        "\n",
        "# Path to the input grayscale image\n",
        "input_image_path = 'lena30.jpg'\n",
        "\n",
        "# Path to save the encrypted grayscale image\n",
        "encrypted_image_path = 'encrypted_image_gray.jpg'\n",
        "\n",
        "# Encrypt the grayscale image\n",
        "encrypt_image(input_image_path, encrypted_image_path)\n"
      ],
      "metadata": {
        "colab": {
          "base_uri": "https://localhost:8080/"
        },
        "id": "sYGTCkot0loQ",
        "outputId": "7112071e-3023-4c83-9c50-92e30314e19e"
      },
      "execution_count": 33,
      "outputs": [
        {
          "output_type": "stream",
          "name": "stdout",
          "text": [
            "Image encrypted and saved successfully!\n"
          ]
        }
      ]
    },
    {
      "cell_type": "code",
      "source": [
        "!pip install scikit-image"
      ],
      "metadata": {
        "colab": {
          "base_uri": "https://localhost:8080/"
        },
        "id": "ujzkKnKW1BhY",
        "outputId": "ecfe2f13-d7b9-4055-dedf-29c49ce4b77a"
      },
      "execution_count": 14,
      "outputs": [
        {
          "output_type": "stream",
          "name": "stdout",
          "text": [
            "Looking in indexes: https://pypi.org/simple, https://us-python.pkg.dev/colab-wheels/public/simple/\n",
            "Requirement already satisfied: scikit-image in /usr/local/lib/python3.10/dist-packages (0.19.3)\n",
            "Requirement already satisfied: numpy>=1.17.0 in /usr/local/lib/python3.10/dist-packages (from scikit-image) (1.22.4)\n",
            "Requirement already satisfied: scipy>=1.4.1 in /usr/local/lib/python3.10/dist-packages (from scikit-image) (1.10.1)\n",
            "Requirement already satisfied: networkx>=2.2 in /usr/local/lib/python3.10/dist-packages (from scikit-image) (3.1)\n",
            "Requirement already satisfied: pillow!=7.1.0,!=7.1.1,!=8.3.0,>=6.1.0 in /usr/local/lib/python3.10/dist-packages (from scikit-image) (8.4.0)\n",
            "Requirement already satisfied: imageio>=2.4.1 in /usr/local/lib/python3.10/dist-packages (from scikit-image) (2.25.1)\n",
            "Requirement already satisfied: tifffile>=2019.7.26 in /usr/local/lib/python3.10/dist-packages (from scikit-image) (2023.4.12)\n",
            "Requirement already satisfied: PyWavelets>=1.1.1 in /usr/local/lib/python3.10/dist-packages (from scikit-image) (1.4.1)\n",
            "Requirement already satisfied: packaging>=20.0 in /usr/local/lib/python3.10/dist-packages (from scikit-image) (23.1)\n"
          ]
        }
      ]
    },
    {
      "cell_type": "markdown",
      "source": [
        "!pip install opencv-python"
      ],
      "metadata": {
        "id": "OPGezLQb2n4k"
      }
    },
    {
      "cell_type": "code",
      "source": [
        "import cv2\n",
        "import skimage.metrics as metrics\n",
        "\n",
        "def compare_images(original_path, encrypted_path):\n",
        "    # Read the images\n",
        "    original_image = cv2.imread(original_path)\n",
        "    encrypted_image = cv2.imread(encrypted_path)\n",
        "\n",
        "    # Ensure the same dimensions\n",
        "    original_image = cv2.resize(original_image, (encrypted_image.shape[1], encrypted_image.shape[0]))\n",
        "\n",
        "    # Convert images to grayscale if needed\n",
        "    original_image = cv2.cvtColor(original_image, cv2.COLOR_BGR2GRAY)\n",
        "    encrypted_image = cv2.cvtColor(encrypted_image, cv2.COLOR_BGR2GRAY)\n",
        "\n",
        "    # Calculate mean squared error (MSE)\n",
        "    mse = metrics.mean_squared_error(original_image, encrypted_image)\n",
        "\n",
        "    return mse\n",
        "\n",
        "# Example usage\n",
        "original_path = '/content/lena30.jpg'\n",
        "encrypted_path = '/content/encrypted_image_gray.jpg'\n",
        "\n",
        "mse = compare_images(original_path, encrypted_path)\n",
        "print(f\"The mean squared error (MSE) between the images is: {mse}\")\n"
      ],
      "metadata": {
        "colab": {
          "base_uri": "https://localhost:8080/"
        },
        "id": "HfdH8SDyB7ZP",
        "outputId": "5ec08144-622a-45c2-e862-4902df46d20f"
      },
      "execution_count": 35,
      "outputs": [
        {
          "output_type": "stream",
          "name": "stdout",
          "text": [
            "The mean squared error (MSE) between the images is: 4303.6157875061035\n"
          ]
        }
      ]
    }
  ]
}